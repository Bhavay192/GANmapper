{
 "metadata": {
  "language_info": {
   "codemirror_mode": {
    "name": "ipython",
    "version": 3
   },
   "file_extension": ".py",
   "mimetype": "text/x-python",
   "name": "python",
   "nbconvert_exporter": "python",
   "pygments_lexer": "ipython3",
   "version": "3.8.10"
  },
  "orig_nbformat": 2,
  "kernelspec": {
   "name": "python3810jvsc74a57bd0eebdc59d4366f397492a6078d3c48e0e6b3bf635f2bbc0ef6c03a1a6ec5991ac",
   "display_name": "Python 3.8.10 64-bit ('gis': conda)"
  },
  "metadata": {
   "interpreter": {
    "hash": "79211494ae25ce2be8532ff8c20a27ea520d031b405349683fe70c6fd57826b2"
   }
  }
 },
 "nbformat": 4,
 "nbformat_minor": 2,
 "cells": [
  {
   "cell_type": "code",
   "execution_count": 21,
   "metadata": {},
   "outputs": [
    {
     "output_type": "stream",
     "name": "stdout",
     "text": [
      "datasets/Exp3/Beijing/Source\\testA\\16\\53929\n"
     ]
    }
   ],
   "source": [
    "from PIL import Image\n",
    "import ntpath\n",
    "import os\n",
    "print(os.path.split('datasets/Exp3/Beijing/Source\\\\testA\\\\16\\\\53929\\\\24847.png')[0])"
   ]
  },
  {
   "cell_type": "code",
   "execution_count": 47,
   "metadata": {},
   "outputs": [
    {
     "output_type": "execute_result",
     "data": {
      "text/plain": [
       "'16\\\\53929\\\\24847.png'"
      ]
     },
     "metadata": {},
     "execution_count": 47
    }
   ],
   "source": [
    "name = 'datasets/Exp3/Beijing/Source\\\\testA\\\\16\\\\53929\\\\24847.png'[-18:]\n",
    "name"
   ]
  },
  {
   "cell_type": "code",
   "execution_count": 133,
   "metadata": {},
   "outputs": [],
   "source": [
    "image_path = 'datasets/Exp3/Beijing/Source\\\\testA\\\\16\\\\53929\\\\24847.png'"
   ]
  },
  {
   "cell_type": "code",
   "execution_count": 134,
   "metadata": {},
   "outputs": [
    {
     "output_type": "execute_result",
     "data": {
      "text/plain": [
       "'16\\\\53929\\\\24847'"
      ]
     },
     "metadata": {},
     "execution_count": 134
    }
   ],
   "source": [
    "image_path[-18:-4]"
   ]
  },
  {
   "cell_type": "code",
   "execution_count": 57,
   "metadata": {},
   "outputs": [],
   "source": [
    "from pathlib import Path\n",
    "path='./results/Beijing\\\\test_latest\\\\images\\\\realA\\\\16\\\\53929\\\\24810.png'"
   ]
  },
  {
   "cell_type": "code",
   "execution_count": 55,
   "metadata": {},
   "outputs": [],
   "source": [
    "Path(path).mkdir(parents=True, exist_ok=True)"
   ]
  },
  {
   "cell_type": "code",
   "execution_count": 65,
   "metadata": {},
   "outputs": [
    {
     "output_type": "execute_result",
     "data": {
      "text/plain": [
       "'./results/Beijing\\\\test_latest\\\\images\\\\realA\\\\16\\\\53929'"
      ]
     },
     "metadata": {},
     "execution_count": 65
    }
   ],
   "source": [
    "os.path.dirname(path)\n",
    "os.path.dirname(path)"
   ]
  },
  {
   "cell_type": "code",
   "execution_count": 5,
   "metadata": {},
   "outputs": [
    {
     "output_type": "stream",
     "name": "stdout",
     "text": [
      "python test.py --dataroot datasets/Exp3/Prepped/Beijing --checkpoints_dir checkpoints/Exp3 --name Beijing\npython test.py --dataroot datasets/Exp3/Prepped/Jakarta --checkpoints_dir checkpoints/Exp3 --name Jakarta\npython test.py --dataroot datasets/Exp3/Prepped/LA --checkpoints_dir checkpoints/Exp3 --name LA\npython test.py --dataroot datasets/Exp3/Prepped/London --checkpoints_dir checkpoints/Exp3 --name London\npython test.py --dataroot datasets/Exp3/Prepped/Munich --checkpoints_dir checkpoints/Exp3 --name Munich\npython test.py --dataroot datasets/Exp3/Prepped/NY --checkpoints_dir checkpoints/Exp3 --name NY\npython test.py --dataroot datasets/Exp3/Prepped/Paris --checkpoints_dir checkpoints/Exp3 --name Paris\npython test.py --dataroot datasets/Exp3/Prepped/Tokyo --checkpoints_dir checkpoints/Exp3 --name Tokyo\n"
     ]
    }
   ],
   "source": [
    "#Exp3\n",
    "def gen(city_name):\n",
    "    print('python test.py --dataroot datasets/Exp3/Prepped/' + city_name + ' --checkpoints_dir checkpoints/Exp3 --name ' + city_name)\n",
    "\n",
    "city_list= ['Beijing',\n",
    "             'Jakarta',\n",
    "             'LA',\n",
    "             'London',\n",
    "             'Munich',\n",
    "             'NY',\n",
    "             'Paris',\n",
    "             'Tokyo']\n",
    "\n",
    "for i in city_list:\n",
    "    gen(i)"
   ]
  },
  {
   "cell_type": "code",
   "execution_count": 140,
   "metadata": {},
   "outputs": [
    {
     "output_type": "stream",
     "name": "stdout",
     "text": [
      "python predict.py --dataroot datasets/Exp3/Beijing/Source --checkpoints_dir checkpoints/Exp3 --name Beijing --model test --norm batch\npython predict.py --dataroot datasets/Exp3/Jakarta/Source --checkpoints_dir checkpoints/Exp3 --name Jakarta --model test --norm batch\npython predict.py --dataroot datasets/Exp3/LA/Source --checkpoints_dir checkpoints/Exp3 --name LA --model test --norm batch\npython predict.py --dataroot datasets/Exp3/London/Source --checkpoints_dir checkpoints/Exp3 --name London --model test --norm batch\npython predict.py --dataroot datasets/Exp3/Munich/Source --checkpoints_dir checkpoints/Exp3 --name Munich --model test --norm batch\npython predict.py --dataroot datasets/Exp3/NY/Source --checkpoints_dir checkpoints/Exp3 --name NY --model test --norm batch\npython predict.py --dataroot datasets/Exp3/Paris/Source --checkpoints_dir checkpoints/Exp3 --name Paris --model test --norm batch\npython predict.py --dataroot datasets/Exp3/Tokyo/Source --checkpoints_dir checkpoints/Exp3 --name Tokyo --model test --norm batch\n"
     ]
    }
   ],
   "source": [
    "#Exp3 just for generation\n",
    "def gen_predict(city_name):\n",
    "    print('python predict.py --dataroot datasets/Exp3/' + city_name + '/Source --checkpoints_dir checkpoints/Exp3 --name ' + city_name + ' --model test --norm batch')\n",
    "\n",
    "for i in city_list:\n",
    "    gen_predict(i)"
   ]
  },
  {
   "cell_type": "code",
   "execution_count": null,
   "metadata": {},
   "outputs": [],
   "source": [
    "# generate vector from slippy map\n",
    "\n",
    "python -m util.extract "
   ]
  },
  {
   "cell_type": "code",
   "execution_count": 74,
   "metadata": {},
   "outputs": [],
   "source": [
    "import numpy as np "
   ]
  },
  {
   "cell_type": "code",
   "execution_count": 113,
   "metadata": {},
   "outputs": [
    {
     "output_type": "execute_result",
     "data": {
      "text/plain": [
       "(array([0, 1], dtype=uint8), array([61371,  4165], dtype=int64))"
      ]
     },
     "metadata": {},
     "execution_count": 113
    }
   ],
   "source": [
    "img2 = 'D:\\\\UAL\\\\Roofpedia Repo/results/03Masks\\\\Green\\\\Luxembourg/19/271007/178672.png'\n",
    "image = np.array(Image.open(img2).convert(\"P\"), dtype=np.uint8)\n",
    "np.unique(image, return_counts=True)"
   ]
  },
  {
   "cell_type": "code",
   "execution_count": 117,
   "metadata": {},
   "outputs": [],
   "source": [
    "def convert_binary(img_path):\n",
    "    img = cv2.imread(img_path)\n",
    "    img = cv2.cvtColor(img, cv2.COLOR_BGR2GRAY)\n",
    "    thresh, img = cv2.threshold(img, 128, 255, cv2.THRESH_OTSU)\n",
    "    return img"
   ]
  },
  {
   "cell_type": "code",
   "execution_count": 120,
   "metadata": {},
   "outputs": [],
   "source": [
    "img1 = \"D:\\\\UAL\\\\GANmapper Repo\\\\results\\\\Beijing\\\\test_latest\\\\images\\\\fake\\\\16\\\\53929\\\\24811.png\"\n",
    "\n",
    "img1 = convert_binary(img1)\n",
    "np.unique(img1, return_counts=True) # 0 is foreground\n",
    "mask = (img1 == 0).astype(np.uint8)"
   ]
  },
  {
   "cell_type": "code",
   "execution_count": 75,
   "metadata": {},
   "outputs": [],
   "source": [
    "image = np.array(Image.open(img1).convert(\"P\"), dtype=np.uint8)"
   ]
  },
  {
   "cell_type": "code",
   "execution_count": 125,
   "metadata": {},
   "outputs": [
    {
     "output_type": "execute_result",
     "data": {
      "text/plain": [
       "(array([0, 1], dtype=uint8), array([64918,   618], dtype=int64))"
      ]
     },
     "metadata": {},
     "execution_count": 125
    }
   ],
   "source": [
    "np.unique(mask, return_counts=True)"
   ]
  },
  {
   "cell_type": "code",
   "execution_count": 1,
   "metadata": {},
   "outputs": [
    {
     "output_type": "error",
     "ename": "AttributeError",
     "evalue": "partially initialized module 'fiona' has no attribute '_loading' (most likely due to a circular import)",
     "traceback": [
      "\u001b[1;31m---------------------------------------------------------------------------\u001b[0m",
      "\u001b[1;31mAttributeError\u001b[0m                            Traceback (most recent call last)",
      "\u001b[1;32m<ipython-input-1-12e31e85d098>\u001b[0m in \u001b[0;36m<module>\u001b[1;34m\u001b[0m\n\u001b[1;32m----> 1\u001b[1;33m \u001b[1;32mimport\u001b[0m \u001b[0mgeopandas\u001b[0m \u001b[1;32mas\u001b[0m \u001b[0mgp\u001b[0m\u001b[1;33m\u001b[0m\u001b[1;33m\u001b[0m\u001b[0m\n\u001b[0m",
      "\u001b[1;32m~\\miniconda3\\envs\\gis\\lib\\site-packages\\geopandas\\__init__.py\u001b[0m in \u001b[0;36m<module>\u001b[1;34m\u001b[0m\n\u001b[0;32m      5\u001b[0m \u001b[1;32mfrom\u001b[0m \u001b[0mgeopandas\u001b[0m\u001b[1;33m.\u001b[0m\u001b[0marray\u001b[0m \u001b[1;32mimport\u001b[0m \u001b[0mpoints_from_xy\u001b[0m  \u001b[1;31m# noqa\u001b[0m\u001b[1;33m\u001b[0m\u001b[1;33m\u001b[0m\u001b[0m\n\u001b[0;32m      6\u001b[0m \u001b[1;33m\u001b[0m\u001b[0m\n\u001b[1;32m----> 7\u001b[1;33m \u001b[1;32mfrom\u001b[0m \u001b[0mgeopandas\u001b[0m\u001b[1;33m.\u001b[0m\u001b[0mio\u001b[0m\u001b[1;33m.\u001b[0m\u001b[0mfile\u001b[0m \u001b[1;32mimport\u001b[0m \u001b[0m_read_file\u001b[0m \u001b[1;32mas\u001b[0m \u001b[0mread_file\u001b[0m  \u001b[1;31m# noqa\u001b[0m\u001b[1;33m\u001b[0m\u001b[1;33m\u001b[0m\u001b[0m\n\u001b[0m\u001b[0;32m      8\u001b[0m \u001b[1;32mfrom\u001b[0m \u001b[0mgeopandas\u001b[0m\u001b[1;33m.\u001b[0m\u001b[0mio\u001b[0m\u001b[1;33m.\u001b[0m\u001b[0marrow\u001b[0m \u001b[1;32mimport\u001b[0m \u001b[0m_read_parquet\u001b[0m \u001b[1;32mas\u001b[0m \u001b[0mread_parquet\u001b[0m  \u001b[1;31m# noqa\u001b[0m\u001b[1;33m\u001b[0m\u001b[1;33m\u001b[0m\u001b[0m\n\u001b[0;32m      9\u001b[0m \u001b[1;32mfrom\u001b[0m \u001b[0mgeopandas\u001b[0m\u001b[1;33m.\u001b[0m\u001b[0mio\u001b[0m\u001b[1;33m.\u001b[0m\u001b[0marrow\u001b[0m \u001b[1;32mimport\u001b[0m \u001b[0m_read_feather\u001b[0m \u001b[1;32mas\u001b[0m \u001b[0mread_feather\u001b[0m  \u001b[1;31m# noqa\u001b[0m\u001b[1;33m\u001b[0m\u001b[1;33m\u001b[0m\u001b[0m\n",
      "\u001b[1;32m~\\miniconda3\\envs\\gis\\lib\\site-packages\\geopandas\\io\\file.py\u001b[0m in \u001b[0;36m<module>\u001b[1;34m\u001b[0m\n\u001b[0;32m     18\u001b[0m \u001b[1;33m\u001b[0m\u001b[0m\n\u001b[0;32m     19\u001b[0m \u001b[1;32mtry\u001b[0m\u001b[1;33m:\u001b[0m\u001b[1;33m\u001b[0m\u001b[1;33m\u001b[0m\u001b[0m\n\u001b[1;32m---> 20\u001b[1;33m     \u001b[1;32mfrom\u001b[0m \u001b[0mfiona\u001b[0m \u001b[1;32mimport\u001b[0m \u001b[0mEnv\u001b[0m \u001b[1;32mas\u001b[0m \u001b[0mfiona_env\u001b[0m\u001b[1;33m\u001b[0m\u001b[1;33m\u001b[0m\u001b[0m\n\u001b[0m\u001b[0;32m     21\u001b[0m \u001b[1;32mexcept\u001b[0m \u001b[0mImportError\u001b[0m\u001b[1;33m:\u001b[0m\u001b[1;33m\u001b[0m\u001b[1;33m\u001b[0m\u001b[0m\n\u001b[0;32m     22\u001b[0m     \u001b[1;32mtry\u001b[0m\u001b[1;33m:\u001b[0m\u001b[1;33m\u001b[0m\u001b[1;33m\u001b[0m\u001b[0m\n",
      "\u001b[1;32m~\\miniconda3\\envs\\gis\\lib\\site-packages\\fiona\\__init__.py\u001b[0m in \u001b[0;36m<module>\u001b[1;34m\u001b[0m\n\u001b[0;32m     83\u001b[0m \u001b[1;33m\u001b[0m\u001b[0m\n\u001b[0;32m     84\u001b[0m \u001b[1;32mimport\u001b[0m \u001b[0mfiona\u001b[0m\u001b[1;33m.\u001b[0m\u001b[0m_loading\u001b[0m\u001b[1;33m\u001b[0m\u001b[1;33m\u001b[0m\u001b[0m\n\u001b[1;32m---> 85\u001b[1;33m \u001b[1;32mwith\u001b[0m \u001b[0mfiona\u001b[0m\u001b[1;33m.\u001b[0m\u001b[0m_loading\u001b[0m\u001b[1;33m.\u001b[0m\u001b[0madd_gdal_dll_directories\u001b[0m\u001b[1;33m(\u001b[0m\u001b[1;33m)\u001b[0m\u001b[1;33m:\u001b[0m\u001b[1;33m\u001b[0m\u001b[1;33m\u001b[0m\u001b[0m\n\u001b[0m\u001b[0;32m     86\u001b[0m     \u001b[1;32mfrom\u001b[0m \u001b[0mfiona\u001b[0m\u001b[1;33m.\u001b[0m\u001b[0mcollection\u001b[0m \u001b[1;32mimport\u001b[0m \u001b[0mBytesCollection\u001b[0m\u001b[1;33m,\u001b[0m \u001b[0mCollection\u001b[0m\u001b[1;33m\u001b[0m\u001b[1;33m\u001b[0m\u001b[0m\n\u001b[0;32m     87\u001b[0m     \u001b[1;32mfrom\u001b[0m \u001b[0mfiona\u001b[0m\u001b[1;33m.\u001b[0m\u001b[0mdrvsupport\u001b[0m \u001b[1;32mimport\u001b[0m \u001b[0msupported_drivers\u001b[0m\u001b[1;33m\u001b[0m\u001b[1;33m\u001b[0m\u001b[0m\n",
      "\u001b[1;31mAttributeError\u001b[0m: partially initialized module 'fiona' has no attribute '_loading' (most likely due to a circular import)"
     ]
    }
   ],
   "source": [
    "import geopandas as gp"
   ]
  },
  {
   "cell_type": "code",
   "execution_count": null,
   "metadata": {},
   "outputs": [],
   "source": []
  }
 ]
}