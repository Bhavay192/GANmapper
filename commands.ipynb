{
 "cells": [
  {
   "cell_type": "code",
   "execution_count": 21,
   "metadata": {},
   "outputs": [
    {
     "name": "stdout",
     "output_type": "stream",
     "text": [
      "datasets/Exp3/Beijing/Source\\testA\\16\\53929\n"
     ]
    }
   ],
   "source": [
    "from PIL import Image\n",
    "import ntpath\n",
    "import os\n",
    "print(os.path.split('datasets/Exp3/Beijing/Source\\\\testA\\\\16\\\\53929\\\\24847.png')[0])"
   ]
  },
  {
   "cell_type": "code",
   "execution_count": 55,
   "metadata": {},
   "outputs": [],
   "source": [
    "#template for generating from test\r\n",
    "#python test.py --dataroot datasets/Exp1/Prepped/Landuse --checkpoints_dir checkpoints/Exp1 --name Landuseres --model pix2pix --netG resnet_9blocks"
   ]
  },
  {
   "cell_type": "code",
   "execution_count": 8,
   "metadata": {},
   "outputs": [
    {
     "name": "stdout",
     "output_type": "stream",
     "text": [
      "python test.py --dataroot datasets/Exp1/Prepped/Black --checkpoints_dir checkpoints/Exp1 --name Black --model pix2pix\n",
      "python test.py --dataroot datasets/Exp1/Prepped/Color --checkpoints_dir checkpoints/Exp1 --name Color --model pix2pix\n",
      "python test.py --dataroot datasets/Exp1/Prepped/Landuse --checkpoints_dir checkpoints/Exp1 --name Landuse --model pix2pix\n"
     ]
    }
   ],
   "source": [
    "#Exp1, for pix2pix Unet. if resnet, add --netG resnet_9blocks\r\n",
    "def gen(type_name):\r\n",
    "    print('python test.py --dataroot datasets/Exp1/Prepped/' + type_name + ' --checkpoints_dir checkpoints/Exp1 --name ' + type_name + ' --model pix2pix')\r\n",
    "\r\n",
    "type_list= ['Black',\r\n",
    "            'Color',\r\n",
    "            'Landuse']\r\n",
    "\r\n",
    "for i in type_list:\r\n",
    "    gen(i)"
   ]
  },
  {
   "cell_type": "code",
   "execution_count": 12,
   "metadata": {},
   "outputs": [
    {
     "name": "stdout",
     "output_type": "stream",
     "text": [
      "python test.py --dataroot datasets/Exp2/Test/14 --checkpoints_dir checkpoints/Exp2 --name 14 --model pix2pix --netG resnet_9blocks\n",
      "python test.py --dataroot datasets/Exp2/Test/15 --checkpoints_dir checkpoints/Exp2 --name 15 --model pix2pix --netG resnet_9blocks\n",
      "python test.py --dataroot datasets/Exp2/Test/16 --checkpoints_dir checkpoints/Exp2 --name 16 --model pix2pix --netG resnet_9blocks\n",
      "python test.py --dataroot datasets/Exp2/Test/17 --checkpoints_dir checkpoints/Exp2 --name 17 --model pix2pix --netG resnet_9blocks\n",
      "python test.py --dataroot datasets/Exp2/Test/14c --checkpoints_dir checkpoints/Exp2 --name 14c --model pix2pix --netG resnet_9blocks\n",
      "python test.py --dataroot datasets/Exp2/Test/15c --checkpoints_dir checkpoints/Exp2 --name 15c --model pix2pix --netG resnet_9blocks\n",
      "python test.py --dataroot datasets/Exp2/Test/16c --checkpoints_dir checkpoints/Exp2 --name 16c --model pix2pix --netG resnet_9blocks\n",
      "python test.py --dataroot datasets/Exp2/Test/17c --checkpoints_dir checkpoints/Exp2 --name 17c --model pix2pix --netG resnet_9blocks\n"
     ]
    }
   ],
   "source": [
    "#Exp2\r\n",
    "def gen(zoom_level):\r\n",
    "    print('python test.py --dataroot datasets/Exp2/Test/' + zoom_level + ' --checkpoints_dir checkpoints/Exp2 --name ' + zoom_level + ' --model pix2pix --netG resnet_9blocks')\r\n",
    "\r\n",
    "type_list= ['14',\r\n",
    "            '15',\r\n",
    "            '16',\r\n",
    "            '17',\r\n",
    "            '14c',\r\n",
    "            '15c',\r\n",
    "            '16c',\r\n",
    "            '17c',]\r\n",
    "\r\n",
    "for i in type_list:\r\n",
    "    gen(i)"
   ]
  },
  {
   "cell_type": "code",
   "execution_count": 6,
   "metadata": {},
   "outputs": [
    {
     "name": "stdout",
     "output_type": "stream",
     "text": [
      "python test.py --dataroot datasets/Exp3/Prepped/Beijing --checkpoints_dir checkpoints/Exp3 --name Beijing --model pix2pix --netG resnet_9blocks\n",
      "python test.py --dataroot datasets/Exp3/Prepped/Jakarta --checkpoints_dir checkpoints/Exp3 --name Jakarta --model pix2pix --netG resnet_9blocks\n",
      "python test.py --dataroot datasets/Exp3/Prepped/LA --checkpoints_dir checkpoints/Exp3 --name LA --model pix2pix --netG resnet_9blocks\n",
      "python test.py --dataroot datasets/Exp3/Prepped/London --checkpoints_dir checkpoints/Exp3 --name London --model pix2pix --netG resnet_9blocks\n",
      "python test.py --dataroot datasets/Exp3/Prepped/Munich --checkpoints_dir checkpoints/Exp3 --name Munich --model pix2pix --netG resnet_9blocks\n",
      "python test.py --dataroot datasets/Exp3/Prepped/NY --checkpoints_dir checkpoints/Exp3 --name NY --model pix2pix --netG resnet_9blocks\n",
      "python test.py --dataroot datasets/Exp3/Prepped/Paris --checkpoints_dir checkpoints/Exp3 --name Paris --model pix2pix --netG resnet_9blocks\n",
      "python test.py --dataroot datasets/Exp3/Prepped/Tokyo --checkpoints_dir checkpoints/Exp3 --name Tokyo --model pix2pix --netG resnet_9blocks\n"
     ]
    }
   ],
   "source": [
    "#Exp3\r\n",
    "def gen(city_name):\r\n",
    "    print('python test.py --dataroot datasets/Exp3/Prepped/' + city_name + ' --checkpoints_dir checkpoints/Exp3 --name ' + city_name +' --model pix2pix --netG resnet_9blocks')\r\n",
    "\r\n",
    "city_list= ['Beijing',\r\n",
    "             'Jakarta',\r\n",
    "             'LA',\r\n",
    "             'London',\r\n",
    "             'Munich',\r\n",
    "             'NY',\r\n",
    "             'Paris',\r\n",
    "             'Tokyo']\r\n",
    "\r\n",
    "for i in city_list:\r\n",
    "    gen(i)"
   ]
  },
  {
   "cell_type": "code",
   "execution_count": 7,
   "metadata": {},
   "outputs": [
    {
     "name": "stdout",
     "output_type": "stream",
     "text": [
      "python predict.py --dataroot datasets/Exp4/Beijing/Source --checkpoints_dir checkpoints/Exp3 --name Beijing --model test --norm batch\n",
      "python predict.py --dataroot datasets/Exp4/Jakarta/Source --checkpoints_dir checkpoints/Exp3 --name Jakarta --model test --norm batch\n",
      "python predict.py --dataroot datasets/Exp4/LA/Source --checkpoints_dir checkpoints/Exp3 --name LA --model test --norm batch\n",
      "python predict.py --dataroot datasets/Exp4/London/Source --checkpoints_dir checkpoints/Exp3 --name London --model test --norm batch\n",
      "python predict.py --dataroot datasets/Exp4/Munich/Source --checkpoints_dir checkpoints/Exp3 --name Munich --model test --norm batch\n",
      "python predict.py --dataroot datasets/Exp4/NY/Source --checkpoints_dir checkpoints/Exp3 --name NY --model test --norm batch\n",
      "python predict.py --dataroot datasets/Exp4/Paris/Source --checkpoints_dir checkpoints/Exp3 --name Paris --model test --norm batch\n",
      "python predict.py --dataroot datasets/Exp4/Tokyo/Source --checkpoints_dir checkpoints/Exp3 --name Tokyo --model test --norm batch\n"
     ]
    }
   ],
   "source": [
    "#Exp3 just for generation using Single Dataset mode. Seaches for all images under the pointed dir.\r\n",
    "def gen_predict(city_name):\r\n",
    "    print('python predict.py --dataroot datasets/Exp4/' + city_name + '/Source --checkpoints_dir checkpoints/Exp3 --name ' + city_name + ' --model test --norm batch')\r\n",
    "\r\n",
    "for i in city_list:\r\n",
    "    gen_predict(i)"
   ]
  },
  {
   "cell_type": "code",
   "execution_count": null,
   "metadata": {},
   "outputs": [],
   "source": [
    "python predict.py --dataroot datasets/Exp5/Kediri/Test --name Kediri --model test --norm batch"
   ]
  },
  {
   "cell_type": "code",
   "execution_count": null,
   "metadata": {},
   "outputs": [],
   "source": [
    "# generate vector from slippy map\n",
    "\n",
    "python -m util.extract "
   ]
  },
  {
   "cell_type": "code",
   "execution_count": 74,
   "metadata": {},
   "outputs": [],
   "source": [
    "import numpy as np "
   ]
  },
  {
   "cell_type": "code",
   "execution_count": 113,
   "metadata": {},
   "outputs": [
    {
     "data": {
      "text/plain": [
       "(array([0, 1], dtype=uint8), array([61371,  4165], dtype=int64))"
      ]
     },
     "execution_count": 113,
     "metadata": {},
     "output_type": "execute_result"
    }
   ],
   "source": [
    "img2 = 'D:\\\\UAL\\\\Roofpedia Repo/results/03Masks\\\\Green\\\\Luxembourg/19/271007/178672.png'\n",
    "image = np.array(Image.open(img2).convert(\"P\"), dtype=np.uint8)\n",
    "np.unique(image, return_counts=True)"
   ]
  },
  {
   "cell_type": "code",
   "execution_count": 117,
   "metadata": {},
   "outputs": [],
   "source": [
    "def convert_binary(img_path):\n",
    "    img = cv2.imread(img_path)\n",
    "    img = cv2.cvtColor(img, cv2.COLOR_BGR2GRAY)\n",
    "    thresh, img = cv2.threshold(img, 128, 255, cv2.THRESH_OTSU)\n",
    "    return img"
   ]
  },
  {
   "cell_type": "code",
   "execution_count": 120,
   "metadata": {},
   "outputs": [],
   "source": [
    "img1 = \"D:\\\\UAL\\\\GANmapper Repo\\\\results\\\\Beijing\\\\test_latest\\\\images\\\\fake\\\\16\\\\53929\\\\24811.png\"\n",
    "\n",
    "img1 = convert_binary(img1)\n",
    "np.unique(img1, return_counts=True) # 0 is foreground\n",
    "mask = (img1 == 0).astype(np.uint8)"
   ]
  },
  {
   "cell_type": "code",
   "execution_count": 75,
   "metadata": {},
   "outputs": [],
   "source": [
    "image = np.array(Image.open(img1).convert(\"P\"), dtype=np.uint8)"
   ]
  },
  {
   "cell_type": "code",
   "execution_count": 125,
   "metadata": {},
   "outputs": [
    {
     "data": {
      "text/plain": [
       "(array([0, 1], dtype=uint8), array([64918,   618], dtype=int64))"
      ]
     },
     "execution_count": 125,
     "metadata": {},
     "output_type": "execute_result"
    }
   ],
   "source": [
    "np.unique(mask, return_counts=True)"
   ]
  },
  {
   "cell_type": "code",
   "execution_count": null,
   "metadata": {},
   "outputs": [],
   "source": []
  }
 ],
 "metadata": {
  "interpreter": {
   "hash": "e480c3d56a2d5e4ecf345b7b2b07976a357d62c072b6cefae5b82d603adb8f5d"
  },
  "kernelspec": {
   "display_name": "Python 3.8.10 64-bit ('tf': conda)",
   "name": "python3"
  },
  "language_info": {
   "name": "python",
   "version": ""
  },
  "metadata": {
   "interpreter": {
    "hash": "79211494ae25ce2be8532ff8c20a27ea520d031b405349683fe70c6fd57826b2"
   }
  },
  "orig_nbformat": 2
 },
 "nbformat": 4,
 "nbformat_minor": 2
}